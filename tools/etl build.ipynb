{
 "cells": [
  {
   "cell_type": "code",
   "execution_count": 20,
   "metadata": {},
   "outputs": [],
   "source": [
    "import pandas as pd"
   ]
  },
  {
   "cell_type": "code",
   "execution_count": 21,
   "metadata": {},
   "outputs": [],
   "source": [
    "def clean_wiki(df):\n",
    "    for c in df.columns:\n",
    "        try:\n",
    "            df[c] = df[c].str.replace('http://www.wikidata.org/entity/','')\n",
    "        except:\n",
    "            pass\n",
    "    return df.fillna('')"
   ]
  },
  {
   "cell_type": "code",
   "execution_count": 22,
   "metadata": {},
   "outputs": [
    {
     "data": {
      "text/plain": [
       "['business.value',\n",
       " 'businessLabel.value',\n",
       " 'origindate.value',\n",
       " 'country.value',\n",
       " 'industries.value',\n",
       " 'ceos.value',\n",
       " 'chairs.value',\n",
       " 'hqs.value',\n",
       " 'groups.value']"
      ]
     },
     "execution_count": 22,
     "metadata": {},
     "output_type": "execute_result"
    }
   ],
   "source": [
    "raw_df = pd.read_csv('../data/entities/Q974.csv')\n",
    "#before all else\n",
    "raw_df = clean_wiki(raw_df)\n",
    "[_ for _ in raw_df.columns if 'value' in _]"
   ]
  },
  {
   "cell_type": "code",
   "execution_count": 23,
   "metadata": {},
   "outputs": [],
   "source": [
    "new_names = {'business.value':'id',\n",
    "'businessLabel.value':'name',\n",
    "'origindate.value':'start_date',\n",
    "'country.value':'country_vals',\n",
    "'industries.value':'industry_vals',\n",
    "'ceos.value':'ceo_vals',\n",
    "'chairs.value':'chair_vals',\n",
    "'hqs.value':'hq_vals',\n",
    "'groups.value':'group_vals',\n",
    "'employees.value':'employee_count',#need to make bands for these\n",
    "'profit.value':'profit',\n",
    "'assets.value':'assets', \n",
    "'equity.value':'equity',\n",
    "'markcap.value':'market_cap'}"
   ]
  },
  {
   "cell_type": "code",
   "execution_count": 27,
   "metadata": {},
   "outputs": [
    {
     "data": {
      "text/html": [
       "<div>\n",
       "<style scoped>\n",
       "    .dataframe tbody tr th:only-of-type {\n",
       "        vertical-align: middle;\n",
       "    }\n",
       "\n",
       "    .dataframe tbody tr th {\n",
       "        vertical-align: top;\n",
       "    }\n",
       "\n",
       "    .dataframe thead th {\n",
       "        text-align: right;\n",
       "    }\n",
       "</style>\n",
       "<table border=\"1\" class=\"dataframe\">\n",
       "  <thead>\n",
       "    <tr style=\"text-align: right;\">\n",
       "      <th></th>\n",
       "      <th>id</th>\n",
       "      <th>name</th>\n",
       "      <th>start_date</th>\n",
       "      <th>employee_count</th>\n",
       "      <th>profit</th>\n",
       "      <th>assets</th>\n",
       "      <th>equity</th>\n",
       "      <th>market_cap</th>\n",
       "    </tr>\n",
       "  </thead>\n",
       "  <tbody>\n",
       "    <tr>\n",
       "      <th>0</th>\n",
       "      <td>Q7370229</td>\n",
       "      <td>Rotana Hotels</td>\n",
       "      <td>1992-01-01T00:00:00Z</td>\n",
       "      <td></td>\n",
       "      <td></td>\n",
       "      <td></td>\n",
       "      <td></td>\n",
       "      <td></td>\n",
       "    </tr>\n",
       "    <tr>\n",
       "      <th>4</th>\n",
       "      <td>Q84432349</td>\n",
       "      <td>Rainbow Sunrise Mapambazuko</td>\n",
       "      <td>2010-01-01T00:00:00Z</td>\n",
       "      <td></td>\n",
       "      <td></td>\n",
       "      <td></td>\n",
       "      <td></td>\n",
       "      <td></td>\n",
       "    </tr>\n",
       "    <tr>\n",
       "      <th>9</th>\n",
       "      <td>Q21178738</td>\n",
       "      <td>Equity Bank Congo</td>\n",
       "      <td>2005-01-01T00:00:00Z</td>\n",
       "      <td></td>\n",
       "      <td></td>\n",
       "      <td></td>\n",
       "      <td></td>\n",
       "      <td></td>\n",
       "    </tr>\n",
       "    <tr>\n",
       "      <th>12</th>\n",
       "      <td>Q65045748</td>\n",
       "      <td>Common Front for Congo</td>\n",
       "      <td>2018-01-01T00:00:00Z</td>\n",
       "      <td></td>\n",
       "      <td></td>\n",
       "      <td></td>\n",
       "      <td></td>\n",
       "      <td></td>\n",
       "    </tr>\n",
       "    <tr>\n",
       "      <th>14</th>\n",
       "      <td>Q2996284</td>\n",
       "      <td>Convention of Christian Democrats</td>\n",
       "      <td>2005-08-13T00:00:00Z</td>\n",
       "      <td></td>\n",
       "      <td></td>\n",
       "      <td></td>\n",
       "      <td></td>\n",
       "      <td></td>\n",
       "    </tr>\n",
       "    <tr>\n",
       "      <th>16</th>\n",
       "      <td>Q298507</td>\n",
       "      <td>Association Sportive Vita Club</td>\n",
       "      <td>1935-01-01T00:00:00Z</td>\n",
       "      <td></td>\n",
       "      <td></td>\n",
       "      <td></td>\n",
       "      <td></td>\n",
       "      <td></td>\n",
       "    </tr>\n",
       "  </tbody>\n",
       "</table>\n",
       "</div>"
      ],
      "text/plain": [
       "           id                               name            start_date  \\\n",
       "0    Q7370229                      Rotana Hotels  1992-01-01T00:00:00Z   \n",
       "4   Q84432349        Rainbow Sunrise Mapambazuko  2010-01-01T00:00:00Z   \n",
       "9   Q21178738                  Equity Bank Congo  2005-01-01T00:00:00Z   \n",
       "12  Q65045748             Common Front for Congo  2018-01-01T00:00:00Z   \n",
       "14   Q2996284  Convention of Christian Democrats  2005-08-13T00:00:00Z   \n",
       "16    Q298507     Association Sportive Vita Club  1935-01-01T00:00:00Z   \n",
       "\n",
       "   employee_count profit assets equity market_cap  \n",
       "0                                                  \n",
       "4                                                  \n",
       "9                                                  \n",
       "12                                                 \n",
       "14                                                 \n",
       "16                                                 "
      ]
     },
     "execution_count": 27,
     "metadata": {},
     "output_type": "execute_result"
    }
   ],
   "source": [
    "df = pd.DataFrame(columns=list(new_names))\n",
    "prev_cols = [_ for _ in list(new_names) if _ in raw_df.columns]\n",
    "df[prev_cols] = raw_df[prev_cols]\n",
    "df.columns = df.columns.map(new_names)\n",
    "val_cols = [_ for _ in df.columns if '_vals' in _]\n",
    "ent_df = df.drop(val_cols,axis=1)\n",
    "ent_df = ent_df.fillna('').drop_duplicates()\n",
    "ent_df"
   ]
  },
  {
   "cell_type": "code",
   "execution_count": 28,
   "metadata": {},
   "outputs": [],
   "source": [
    "mult_df = df[val_cols+['id']]\n",
    "redex = mult_df.copy()\n",
    "redex = redex.fillna('')\n",
    "redex.index = mult_df['id']"
   ]
  },
  {
   "cell_type": "code",
   "execution_count": 29,
   "metadata": {},
   "outputs": [],
   "source": [
    "def dic_to_ls(dic,typ):\n",
    "    ret_ls = []\n",
    "    for k, vs in dic.items():\n",
    "        for v in vs:\n",
    "            ret_ls.append({'company_id':k,'val_id':v,'typ':typ})\n",
    "    return ret_ls"
   ]
  },
  {
   "cell_type": "code",
   "execution_count": 32,
   "metadata": {},
   "outputs": [],
   "source": [
    "ind_ls = dic_to_ls(redex['industry_vals'].dropna().str.split(',').to_dict(), 'INDUSTRY')\n",
    "ceo_ls = dic_to_ls(redex['ceo_vals'].dropna().str.split(',').to_dict(), 'CEO')\n",
    "chair_ls = dic_to_ls(redex['chair_vals'].dropna().str.split(',').to_dict(), 'CHAIRMAN')\n",
    "hq_ls = dic_to_ls(redex['hq_vals'].dropna().str.split(',').to_dict(), 'HEADQUARTERS')\n",
    "group_ls = dic_to_ls(redex['group_vals'].dropna().str.split(',').to_dict(),'GROUPED_IN')\n",
    "country_ls = dic_to_ls(redex['country_vals'].dropna().str.split(',').to_dict(),'RESIDES_IN')\n",
    "ent_edge_df = pd.DataFrame(ind_ls+ceo_ls+chair_ls+hq_ls+group_ls+country_ls, columns = ['company_id','val_id','typ'])\n",
    "ent_edge_df = ent_edge_df[ent_edge_df['val_id']!=''].drop_duplicates()"
   ]
  },
  {
   "cell_type": "code",
   "execution_count": 35,
   "metadata": {},
   "outputs": [
    {
     "data": {
      "text/html": [
       "<div>\n",
       "<style scoped>\n",
       "    .dataframe tbody tr th:only-of-type {\n",
       "        vertical-align: middle;\n",
       "    }\n",
       "\n",
       "    .dataframe tbody tr th {\n",
       "        vertical-align: top;\n",
       "    }\n",
       "\n",
       "    .dataframe thead th {\n",
       "        text-align: right;\n",
       "    }\n",
       "</style>\n",
       "<table border=\"1\" class=\"dataframe\">\n",
       "  <thead>\n",
       "    <tr style=\"text-align: right;\">\n",
       "      <th></th>\n",
       "      <th>company_id</th>\n",
       "      <th>val_id</th>\n",
       "      <th>typ</th>\n",
       "    </tr>\n",
       "  </thead>\n",
       "  <tbody>\n",
       "    <tr>\n",
       "      <th>2</th>\n",
       "      <td>Q21178738</td>\n",
       "      <td>Q837171</td>\n",
       "      <td>INDUSTRY</td>\n",
       "    </tr>\n",
       "    <tr>\n",
       "      <th>18</th>\n",
       "      <td>Q7370229</td>\n",
       "      <td>Q1519</td>\n",
       "      <td>HEADQUARTERS</td>\n",
       "    </tr>\n",
       "    <tr>\n",
       "      <th>20</th>\n",
       "      <td>Q21178738</td>\n",
       "      <td>Q3838</td>\n",
       "      <td>HEADQUARTERS</td>\n",
       "    </tr>\n",
       "    <tr>\n",
       "      <th>21</th>\n",
       "      <td>Q65045748</td>\n",
       "      <td>Q3838</td>\n",
       "      <td>HEADQUARTERS</td>\n",
       "    </tr>\n",
       "    <tr>\n",
       "      <th>22</th>\n",
       "      <td>Q2996284</td>\n",
       "      <td>Q3838</td>\n",
       "      <td>HEADQUARTERS</td>\n",
       "    </tr>\n",
       "    <tr>\n",
       "      <th>23</th>\n",
       "      <td>Q298507</td>\n",
       "      <td>Q3838</td>\n",
       "      <td>HEADQUARTERS</td>\n",
       "    </tr>\n",
       "    <tr>\n",
       "      <th>30</th>\n",
       "      <td>Q7370229</td>\n",
       "      <td>Q796</td>\n",
       "      <td>RESIDES_IN</td>\n",
       "    </tr>\n",
       "    <tr>\n",
       "      <th>31</th>\n",
       "      <td>Q84432349</td>\n",
       "      <td>Q974</td>\n",
       "      <td>RESIDES_IN</td>\n",
       "    </tr>\n",
       "    <tr>\n",
       "      <th>32</th>\n",
       "      <td>Q21178738</td>\n",
       "      <td>Q974</td>\n",
       "      <td>RESIDES_IN</td>\n",
       "    </tr>\n",
       "    <tr>\n",
       "      <th>33</th>\n",
       "      <td>Q65045748</td>\n",
       "      <td>Q974</td>\n",
       "      <td>RESIDES_IN</td>\n",
       "    </tr>\n",
       "    <tr>\n",
       "      <th>34</th>\n",
       "      <td>Q2996284</td>\n",
       "      <td>Q974</td>\n",
       "      <td>RESIDES_IN</td>\n",
       "    </tr>\n",
       "    <tr>\n",
       "      <th>35</th>\n",
       "      <td>Q298507</td>\n",
       "      <td>Q974</td>\n",
       "      <td>RESIDES_IN</td>\n",
       "    </tr>\n",
       "  </tbody>\n",
       "</table>\n",
       "</div>"
      ],
      "text/plain": [
       "   company_id   val_id           typ\n",
       "2   Q21178738  Q837171      INDUSTRY\n",
       "18   Q7370229    Q1519  HEADQUARTERS\n",
       "20  Q21178738    Q3838  HEADQUARTERS\n",
       "21  Q65045748    Q3838  HEADQUARTERS\n",
       "22   Q2996284    Q3838  HEADQUARTERS\n",
       "23    Q298507    Q3838  HEADQUARTERS\n",
       "30   Q7370229     Q796    RESIDES_IN\n",
       "31  Q84432349     Q974    RESIDES_IN\n",
       "32  Q21178738     Q974    RESIDES_IN\n",
       "33  Q65045748     Q974    RESIDES_IN\n",
       "34   Q2996284     Q974    RESIDES_IN\n",
       "35    Q298507     Q974    RESIDES_IN"
      ]
     },
     "execution_count": 35,
     "metadata": {},
     "output_type": "execute_result"
    }
   ],
   "source": [
    "ent_edge_df"
   ]
  },
  {
   "cell_type": "code",
   "execution_count": 48,
   "metadata": {},
   "outputs": [
    {
     "data": {
      "text/plain": [
       "['company.value', 'owner.value', 'acquiredate.value']"
      ]
     },
     "execution_count": 48,
     "metadata": {},
     "output_type": "execute_result"
    }
   ],
   "source": [
    "raw_df = pd.read_csv('../data/edges/Q878.csv')\n",
    "raw_df = clean_wiki(raw_df)\n",
    "[_ for _ in raw_df.columns if 'value' in _]"
   ]
  },
  {
   "cell_type": "code",
   "execution_count": 52,
   "metadata": {},
   "outputs": [],
   "source": [
    "new_names = {'company.value':'owned_id',\n",
    "'owner.value':'owner_id',\n",
    "'acquiredate.value':'date'}"
   ]
  },
  {
   "cell_type": "code",
   "execution_count": 53,
   "metadata": {},
   "outputs": [],
   "source": [
    "df = pd.DataFrame(columns=list(new_names))\n",
    "prev_cols = [_ for _ in list(new_names) if _ in raw_df.columns]\n",
    "df[prev_cols] = raw_df[prev_cols]\n",
    "df.columns = df.columns.map(new_names)\n",
    "edge_df = df.copy()\n",
    "edge_df = edge_df.fillna('')"
   ]
  },
  {
   "cell_type": "code",
   "execution_count": 54,
   "metadata": {},
   "outputs": [
    {
     "data": {
      "text/html": [
       "<div>\n",
       "<style scoped>\n",
       "    .dataframe tbody tr th:only-of-type {\n",
       "        vertical-align: middle;\n",
       "    }\n",
       "\n",
       "    .dataframe tbody tr th {\n",
       "        vertical-align: top;\n",
       "    }\n",
       "\n",
       "    .dataframe thead th {\n",
       "        text-align: right;\n",
       "    }\n",
       "</style>\n",
       "<table border=\"1\" class=\"dataframe\">\n",
       "  <thead>\n",
       "    <tr style=\"text-align: right;\">\n",
       "      <th></th>\n",
       "      <th>owned_id</th>\n",
       "      <th>owner_id</th>\n",
       "      <th>date</th>\n",
       "    </tr>\n",
       "  </thead>\n",
       "  <tbody>\n",
       "    <tr>\n",
       "      <th>0</th>\n",
       "      <td>Q61971936</td>\n",
       "      <td>Q55613979</td>\n",
       "      <td>2020-07-01T00:00:00Z</td>\n",
       "    </tr>\n",
       "    <tr>\n",
       "      <th>1</th>\n",
       "      <td>Q460373</td>\n",
       "      <td>Q212304</td>\n",
       "      <td></td>\n",
       "    </tr>\n",
       "    <tr>\n",
       "      <th>2</th>\n",
       "      <td>Q2544289</td>\n",
       "      <td>Q4115940</td>\n",
       "      <td></td>\n",
       "    </tr>\n",
       "    <tr>\n",
       "      <th>3</th>\n",
       "      <td>Q4120269</td>\n",
       "      <td>Q543449</td>\n",
       "      <td></td>\n",
       "    </tr>\n",
       "  </tbody>\n",
       "</table>\n",
       "</div>"
      ],
      "text/plain": [
       "    owned_id   owner_id                  date\n",
       "0  Q61971936  Q55613979  2020-07-01T00:00:00Z\n",
       "1    Q460373    Q212304                      \n",
       "2   Q2544289   Q4115940                      \n",
       "3   Q4120269    Q543449                      "
      ]
     },
     "execution_count": 54,
     "metadata": {},
     "output_type": "execute_result"
    }
   ],
   "source": [
    "edge_df"
   ]
  }
 ],
 "metadata": {
  "kernelspec": {
   "display_name": "Python 3",
   "language": "python",
   "name": "python3"
  },
  "language_info": {
   "codemirror_mode": {
    "name": "ipython",
    "version": 3
   },
   "file_extension": ".py",
   "mimetype": "text/x-python",
   "name": "python",
   "nbconvert_exporter": "python",
   "pygments_lexer": "ipython3",
   "version": "3.9.0"
  }
 },
 "nbformat": 4,
 "nbformat_minor": 4
}
