{
 "cells": [
  {
   "cell_type": "code",
   "execution_count": 1,
   "metadata": {},
   "outputs": [],
   "source": [
    "import pandas as pd"
   ]
  },
  {
   "cell_type": "code",
   "execution_count": 2,
   "metadata": {},
   "outputs": [
    {
     "data": {
      "text/plain": [
       "['business.value',\n",
       " 'businessLabel.value',\n",
       " 'origindate.value',\n",
       " 'country.value',\n",
       " 'industries.value',\n",
       " 'ceos.value',\n",
       " 'chairs.value',\n",
       " 'hqs.value',\n",
       " 'groups.value',\n",
       " 'officialname.value',\n",
       " 'employees.value',\n",
       " 'profit.value',\n",
       " 'assets.value']"
      ]
     },
     "execution_count": 2,
     "metadata": {},
     "output_type": "execute_result"
    }
   ],
   "source": [
    "raw_df = pd.read_csv('../data/entities/Q884.csv')\n",
    "[_ for _ in raw_df.columns if 'value' in _]"
   ]
  },
  {
   "cell_type": "code",
   "execution_count": 3,
   "metadata": {},
   "outputs": [],
   "source": [
    "ENT_COLUMNS = {'business.value':'id',\n",
    "'businessLabel.value':'name',\n",
    "'origindate.value':'start_date',\n",
    "'country.value':'country',\n",
    "'industries.value':'industry_vals',\n",
    "'ceos.value':'ceo_vals',\n",
    "'chairs.value':'chair_vals',\n",
    "'hqs.value':'hq_vals',\n",
    "'groups.value':'group_vals',\n",
    "'employees.value':'employee_count',\n",
    "'profit.value':'profit',\n",
    "'assets.value':'assets',\n",
    "'equity.value':'equity',\n",
    "'markcap.value':'market_cap'}"
   ]
  },
  {
   "cell_type": "code",
   "execution_count": 4,
   "metadata": {},
   "outputs": [],
   "source": [
    "df = pd.DataFrame(columns=list(new_names))\n",
    "prev_cols = [_ for _ in list(new_names) if _ in raw_df.columns]\n",
    "df[prev_cols] = raw_df[prev_cols]\n",
    "df.columns = df.columns.map(new_names)\n",
    "df['id'] = df['id'].str.replace('http://www.wikidata.org/entity/','')\n",
    "df['country'] = df['country'].str.replace('http://www.wikidata.org/entity/','')\n",
    "val_cols = [_ for _ in df.columns if '_vals' in _]\n",
    "ent_df = df.drop(val_cols,axis=1)\n",
    "ent_df = ent_df.fillna('')\n",
    "return ent_df"
   ]
  },
  {
   "cell_type": "code",
   "execution_count": 5,
   "metadata": {},
   "outputs": [],
   "source": [
    "mult_df = df[val_cols+['id']]\n",
    "redex = mult_df.copy()\n",
    "redex.index = mult_df['id']"
   ]
  },
  {
   "cell_type": "code",
   "execution_count": 6,
   "metadata": {},
   "outputs": [],
   "source": [
    "def dic_to_ls(dic,typ):\n",
    "    ret_ls = []\n",
    "    for k, vs in dic.items():\n",
    "        for v in vs:\n",
    "            ret_ls.append({'id':k,'val_name':v,'typ':typ})\n",
    "    return ret_ls"
   ]
  },
  {
   "cell_type": "code",
   "execution_count": 7,
   "metadata": {
    "scrolled": true
   },
   "outputs": [],
   "source": [
    "ind_ls = dic_to_ls(redex['industry_vals'].dropna().str.split(',').to_dict(), 'industry')\n",
    "ceo_ls = dic_to_ls(redex['ceo_vals'].dropna().str.split(',').to_dict(), 'ceo')\n",
    "chair_ls = dic_to_ls(redex['chair_vals'].dropna().str.split(',').to_dict(), 'chairman')\n",
    "hq_ls = dic_to_ls(redex['hq_vals'].dropna().str.split(',').to_dict(), 'headquarters')\n",
    "group_ls = dic_to_ls(redex['group_vals'].dropna().str.split(',').to_dict(),'grouped_in')\n",
    "ent_edge_df = pd.DataFrame(ind_ls+ceo_ls+chair_ls+hq_ls+group_ls, columns = ['id','val_name','typ'])"
   ]
  },
  {
   "cell_type": "code",
   "execution_count": 8,
   "metadata": {},
   "outputs": [
    {
     "data": {
      "text/plain": [
       "['company.value',\n",
       " 'owner.value',\n",
       " 'companyLabel.value',\n",
       " 'ownerLabel.value',\n",
       " 'acquiredate.value']"
      ]
     },
     "execution_count": 8,
     "metadata": {},
     "output_type": "execute_result"
    }
   ],
   "source": [
    "raw_df = pd.read_csv('../data/edges/Q884.csv')\n",
    "[_ for _ in raw_df.columns if 'value' in _]"
   ]
  },
  {
   "cell_type": "code",
   "execution_count": 9,
   "metadata": {},
   "outputs": [],
   "source": [
    "new_names = {'company.value':'owned_id',\n",
    "'companyLabel.value':'owned_name',\n",
    "'owner.value':'owner_id',\n",
    "'ownerLabel.value':'owner_name',\n",
    "'acquiredate.value':'date'}"
   ]
  },
  {
   "cell_type": "code",
   "execution_count": 10,
   "metadata": {},
   "outputs": [],
   "source": [
    "df = pd.DataFrame(columns=list(new_names))\n",
    "prev_cols = [_ for _ in list(new_names) if _ in raw_df.columns]\n",
    "df[prev_cols] = raw_df[prev_cols]\n",
    "df.columns = df.columns.map(new_names)\n",
    "df['owned_id'] = df['owned_id'].str.replace('http://www.wikidata.org/entity/','')\n",
    "df['owner_id'] = df['owner_id'].str.replace('http://www.wikidata.org/entity/','')\n",
    "edge_df = df.copy()\n",
    "edge_df = edge_df.fillna('')"
   ]
  }
 ],
 "metadata": {
  "kernelspec": {
   "display_name": "Python 3",
   "language": "python",
   "name": "python3"
  },
  "language_info": {
   "codemirror_mode": {
    "name": "ipython",
    "version": 3
   },
   "file_extension": ".py",
   "mimetype": "text/x-python",
   "name": "python",
   "nbconvert_exporter": "python",
   "pygments_lexer": "ipython3",
   "version": "3.9.0"
  }
 },
 "nbformat": 4,
 "nbformat_minor": 4
}
