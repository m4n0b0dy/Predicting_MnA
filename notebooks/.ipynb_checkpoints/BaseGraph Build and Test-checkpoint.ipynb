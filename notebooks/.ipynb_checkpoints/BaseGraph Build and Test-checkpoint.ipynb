{
 "cells": [
  {
   "cell_type": "code",
   "execution_count": 1,
   "metadata": {},
   "outputs": [],
   "source": [
    "import sys\n",
    "sys.path.insert(0, '../')\n",
    "from utils.BaseGraph import BaseGraph"
   ]
  },
  {
   "cell_type": "code",
   "execution_count": 2,
   "metadata": {},
   "outputs": [],
   "source": [
    "g = BaseGraph()"
   ]
  },
  {
   "cell_type": "code",
   "execution_count": 3,
   "metadata": {},
   "outputs": [],
   "source": [
    "conn = {\n",
    "    'url':'bolt://localhost',\n",
    "    'port':'7687',\n",
    "    'user':'neo4j',\n",
    "    'password':'test'\n",
    "}"
   ]
  },
  {
   "cell_type": "code",
   "execution_count": 4,
   "metadata": {},
   "outputs": [
    {
     "name": "stdout",
     "output_type": "stream",
     "text": [
      "Connection Succesful\n"
     ]
    }
   ],
   "source": [
    "g.connect_to_neo(conn_dic = conn)"
   ]
  },
  {
   "cell_type": "code",
   "execution_count": 5,
   "metadata": {},
   "outputs": [
    {
     "name": "stdout",
     "output_type": "stream",
     "text": [
      "ah\n"
     ]
    }
   ],
   "source": [
    "print('ah')"
   ]
  },
  {
   "cell_type": "code",
   "execution_count": 6,
   "metadata": {},
   "outputs": [],
   "source": [
    "g.pull_full_graph(limit='50')"
   ]
  },
  {
   "cell_type": "code",
   "execution_count": 7,
   "metadata": {},
   "outputs": [
    {
     "data": {
      "text/plain": [
       "NodeView((0, 21966, 3, 2280, 35934, 1102, 25, 47853, 30, 32, 24154, 35, 35662, 37, 94, 115, 150, 48381, 159, 184, 218, 620, 219, 2055, 222, 1839, 241, 45353, 243, 284, 264, 20099, 282, 298, 1016, 306, 943, 309, 685, 323, 348, 818, 361, 45721, 366, 368, 392, 400, 404, 405, 833, 406, 1871, 419, 677, 444, 2199, 449, 631, 456, 486, 460, 462, 517, 470, 2047, 485, 7107, 500, 514, 525, 769, 527, 17905, 539, 2035, 1533, 555, 1004))"
      ]
     },
     "execution_count": 7,
     "metadata": {},
     "output_type": "execute_result"
    }
   ],
   "source": [
    "g.nodes"
   ]
  },
  {
   "cell_type": "code",
   "execution_count": 8,
   "metadata": {},
   "outputs": [
    {
     "data": {
      "text/plain": [
       "<networkx.classes.digraph.DiGraph at 0x7f94516b9450>"
      ]
     },
     "execution_count": 8,
     "metadata": {},
     "output_type": "execute_result"
    }
   ],
   "source": [
    "g.as_digraph"
   ]
  },
  {
   "cell_type": "code",
   "execution_count": 9,
   "metadata": {},
   "outputs": [],
   "source": [
    "g.save_graph('../data/_tmp')"
   ]
  },
  {
   "cell_type": "code",
   "execution_count": 10,
   "metadata": {},
   "outputs": [],
   "source": [
    "m = BaseGraph()\n",
    "m.load_graph('../data/_tmp')"
   ]
  },
  {
   "cell_type": "code",
   "execution_count": 11,
   "metadata": {},
   "outputs": [
    {
     "data": {
      "text/plain": [
       "NodeView((0, 21966, 3, 2280, 35934, 1102, 25, 47853, 30, 32, 24154, 35, 35662, 37, 94, 115, 150, 48381, 159, 184, 218, 620, 219, 2055, 222, 1839, 241, 45353, 243, 284, 264, 20099, 282, 298, 1016, 306, 943, 309, 685, 323, 348, 818, 361, 45721, 366, 368, 392, 400, 404, 405, 833, 406, 1871, 419, 677, 444, 2199, 449, 631, 456, 486, 460, 462, 517, 470, 2047, 485, 7107, 500, 514, 525, 769, 527, 17905, 539, 2035, 1533, 555, 1004))"
      ]
     },
     "execution_count": 11,
     "metadata": {},
     "output_type": "execute_result"
    }
   ],
   "source": [
    "m.nodes"
   ]
  },
  {
   "cell_type": "code",
   "execution_count": null,
   "metadata": {},
   "outputs": [],
   "source": []
  }
 ],
 "metadata": {
  "kernelspec": {
   "display_name": "Python 3",
   "language": "python",
   "name": "python3"
  },
  "language_info": {
   "codemirror_mode": {
    "name": "ipython",
    "version": 3
   },
   "file_extension": ".py",
   "mimetype": "text/x-python",
   "name": "python",
   "nbconvert_exporter": "python",
   "pygments_lexer": "ipython3",
   "version": "3.7.9"
  }
 },
 "nbformat": 4,
 "nbformat_minor": 4
}
